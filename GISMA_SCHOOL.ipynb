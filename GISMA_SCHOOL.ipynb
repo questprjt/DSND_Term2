{
  "nbformat": 4,
  "nbformat_minor": 0,
  "metadata": {
    "colab": {
      "provenance": [],
      "toc_visible": true,
      "authorship_tag": "ABX9TyNXOv2qXCi/WCtWR5n3UWUQ",
      "include_colab_link": true
    },
    "kernelspec": {
      "name": "python3",
      "display_name": "Python 3"
    },
    "language_info": {
      "name": "python"
    }
  },
  "cells": [
    {
      "cell_type": "markdown",
      "metadata": {
        "id": "view-in-github",
        "colab_type": "text"
      },
      "source": [
        "<a href=\"https://colab.research.google.com/github/questprjt/DSND_Term2/blob/master/GISMA_SCHOOL.ipynb\" target=\"_parent\"><img src=\"https://colab.research.google.com/assets/colab-badge.svg\" alt=\"Open In Colab\"/></a>"
      ]
    },
    {
      "cell_type": "code",
      "execution_count": 3,
      "metadata": {
        "colab": {
          "base_uri": "https://localhost:8080/"
        },
        "id": "MZUN17Qw3l3c",
        "outputId": "978171b6-e9cb-467c-ccad-4e03961012c7"
      },
      "outputs": [
        {
          "output_type": "execute_result",
          "data": {
            "text/plain": [
              "9"
            ]
          },
          "metadata": {},
          "execution_count": 3
        }
      ],
      "source": [
        "1+8"
      ]
    },
    {
      "cell_type": "markdown",
      "source": [
        "# **Explaining The Dataset and Answering Questions**\n",
        "\n",
        "This is the"
      ],
      "metadata": {
        "id": "aRbk3qv1s6f6"
      }
    },
    {
      "cell_type": "markdown",
      "source": [
        "# New Section"
      ],
      "metadata": {
        "id": "TuIZAoRDs8LE"
      }
    }
  ]
}